{
 "cells": [
  {
   "cell_type": "code",
   "execution_count": null,
   "metadata": {},
   "outputs": [],
   "source": [
    "import os\n",
    "from typing import Any, Dict, Literal, Optional\n",
    "from google.cloud import bigquery\n",
    "import pandas as pd\n",
    "from pydantic import BaseModel, Field # Using Pydantic for structured parameters\n",
    "\n",
    "# Assuming FastMCP is installed and available\n",
    "# pip install fastmcp\n",
    "from mcp.server.fastmcp import FastMCP\n",
    "\n",
    "# --- Configuration ---\n",
    "\n",
    "# TODO: Replace with your Google Cloud Project ID if not automatically detected\n",
    "# GOOGLE_CLOUD_PROJECT = os.environ.get(\"GOOGLE_CLOUD_PROJECT\")\n",
    "# Using physionet-data as it's publicly accessible (with credentials)\n",
    "GOOGLE_CLOUD_PROJECT = \"physionet-data\"\n",
    "\n",
    "# TODO: Adjust dataset names if using a specific version or your own copy\n",
    "MIMIC_HOSP_DATASET = \"mimiciv_hosp\"\n",
    "MIMIC_ICU_DATASET = \"mimiciv_icu\" # Not used in current example, but potentially useful\n",
    "MIMIC_DERIVED_DATASET = \"mimic_derived\" # Not used, but potentially useful\n",
    "\n",
    "PROJECT_ID = \"level-strategy-383218\" \n",
    "BQ_DATASET = \"physionet-data\"  # The MIMIC-IV dataset in BigQuery\n",
    "\n",
    "# Setup BigQuery client\n",
    "try:\n",
    "    bq_client = bigquery.Client(project=PROJECT_ID)\n",
    "    print(f\"Connected to BigQuery project: {PROJECT_ID}\")\n",
    "    \n",
    "except Exception as e:\n",
    "    print(f\"Error connecting to BigQuery: {e}\")\n",
    "    print(\"Falling back to local data source.\")\n",
    "    USE_BIGQUERY = False"
   ]
  }
 ],
 "metadata": {
  "kernelspec": {
   "display_name": "base",
   "language": "python",
   "name": "python3"
  },
  "language_info": {
   "codemirror_mode": {
    "name": "ipython",
    "version": 3
   },
   "file_extension": ".py",
   "mimetype": "text/x-python",
   "name": "python",
   "nbconvert_exporter": "python",
   "pygments_lexer": "ipython3",
   "version": "3.12.4"
  }
 },
 "nbformat": 4,
 "nbformat_minor": 2
}
